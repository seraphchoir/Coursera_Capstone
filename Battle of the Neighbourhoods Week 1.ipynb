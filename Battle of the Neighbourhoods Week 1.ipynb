{
 "cells": [
  {
   "cell_type": "markdown",
   "metadata": {
    "collapsed": true
   },
   "source": [
    "<h1>Selection of a site for a temporary COVID-19 hospital in Toronto"
   ]
  },
  {
   "cell_type": "markdown",
   "metadata": {},
   "source": [
    "<h2>Introduction"
   ]
  },
  {
   "cell_type": "markdown",
   "metadata": {},
   "source": [
    "2020 was a remarkable year that saw the introduction of COVID-19 as a global pandemic. COVID-19, a highly infectious respiratory disease caused by the SARS-CoV-2 coronavirus, caused flu-like and pneumonia-like symptoms, with more severe cases requiring hospitalization and in the worst case causing death. The mortality of the disease appeared to be correlated with the age and other comorbidity factors of the infected patient, such as diabetes and obesity. The virus was thought to have originated from Wuhan, China and had quickly spread across the world, with some countries such as USA, Italy, and Spain exceeding the case count within China. The high case count had quickly overwhelmed the hospitals of these countries, causing the mortality of the disease to rise sharply as vulnerable patients were unable to receive adequate treatment from the overwhelmed hospitals and died. Many nations across the world have implemented drastic population control measures to restrict movement and public gatherings, including quarantines and lockdowns, in a bid to slow the spread of the virus and alleviate the number of cases their hospitals would encounter at once.\n",
    "\n",
    "As of March 30, 2020, COVID-19 is present within Toronto, Canada, and case counts, including severe cases, have been steadily rising. Hospitals in Toronto are at risk of being overwhelmed by the steadily increasing case counts, especially severe cases requiring hospitalization. This project investigates what would be an ideal site for a temporary COVID-19 hospital in Toronto in anticipation of the expected surge of severe cases requiring hospitalization. The temporary hospital would be expected to be similar to the <a href=\"https://qz.com/1792705/coronavirus-the-engineering-behind-wuhans-rapidly-built-hospitals/\">Huoshenshan Hospital or Leishenshan Hospital</a> used in Wuhan. The analysis will include the selection of a site within Toronto that can best accommodate the highest concentration of total potential severe cases of COVID-19 that would require hospitalization in intensive care not already served by Toronto's current hospital infrastructure. Other considerations, such as build timeline, cost, political response, and other feasibility-related issues, are not in scope of this report. "
   ]
  },
  {
   "cell_type": "markdown",
   "metadata": {},
   "source": [
    "<h2>Data"
   ]
  },
  {
   "cell_type": "markdown",
   "metadata": {},
   "source": [
    "The following sources of data were used to perform analysis:\n",
    "<ul>\n",
    "    <li>Demographic data of Toronto's various neighbourhoods was taken from City of Toronto's <a href=\"https://open.toronto.ca/dataset/wellbeing-toronto-demographics/\">Open Data Portal - Wellbeing Canada</a>, sourced from the 2016 Census data.</li>\n",
    "    <li>Neighbourhoods in Toronto had GeoJSON data taken from City of Toronto's <a href=\"https://open.toronto.ca/dataset/neighbourhoods/\">Open Data Portal - Neighbhourhoods</a>.</li>\n",
    "    <li>Infection rates will be assumed to be at a hypothetical even rate across neighbourhoods. Current infections will not be used owing to the real-time and evolving nature of the data.</li>\n",
    "    <li>Hospitalization rates requiring intensive care for COVID-19 were scraped from Center for Disease Control's <a href=\"https://www.cdc.gov/mmwr/volumes/69/wr/mm6912e2.htm\">Morbidity and Mortality Weekly Report, February 12–March 16, 2020</a>. The figures for US are assumed to be equivalent to Canadian hospitalization rates.</li>\n",
    "    <li>Locations of current hospitals in Toronto were called from the Foursquare developer API.</li>\n",
    "    <li>Capacity of Toronto hospitals' intensive care units were sourced from <a href=\"https://www.cihi.ca/en/covid-19-resources\">Canadian Institute for Health Information</a>.</li>\n",
    "    <li>Eligible sites for temporary hospitals would include unbuilt land in Toronto that is not expected to be used for erecting other buildings. Parks are assumed to be the best fit, and for the purposes of this analysis all parks will be assumed to be flat and without any significant structures already built on them. Location and size data for parks were taken from City of Toronto's <a href=\"https://open.toronto.ca/dataset/parks/\">Open Data Portal - Parks</a>.</li>\n",
    "</ul>\n",
    "\n",
    "To calculate the number and location of hypothetical severe cases of COVID-19 requiring hospitalization in Toronto:\n",
    "<ol>\n",
    "    <li>Map the demographics of Toronto to their neighbourhoods.</li>\n",
    "    <li>Multiply the demographics by the hypothetical rate of infection and rate of hospitalization requiring intensive care by age cohort.</li>\n",
    "    <li>Map the hypothetical severe cases to their Toronto neighbourhoods.</li>\n",
    "</ol>\n",
    "\n",
    "To determine current hospital capacity and locations:\n",
    "<ol>\n",
    "    <li>Determine hospitals in Toronto with intensive case units.</li>\n",
    "    <li>Search their coordinates using Foursquare.</li>\n",
    "    <li>Map their location and capacity to neighbourhoods in Toronto.</li>\n",
    "</ol>\n",
    "\n",
    "To evaluate potential sites for temporary COVID-19 hospital:\n",
    "<ol>\n",
    "    <li>Map the parks of Toronto and determine their size.</li>\n",
    "    <li>Determine the capacity of a hypothetical temporary hospital by interpolating or extrapolating from Huoshenshan Hospital and Leishenshan Hospital's footprints and bed capacities.</li>\n",
    "    <li>Map the hypothetical hospitals to the neighbourhoods of Toronto</li>\n",
    "</ol>\n",
    "\n",
    "To decide which site is most suitable:\n",
    "<ol>\n",
    "    <li>Determine how well-served each Toronto neighbourhood is relative to the size of and distance from nearby hospitals.</li>\n",
    "    <li>Determine which hypothetical hospital can best alleviate the most underserved neighbourhoods.</li>\n",
    "    <li>Evaluate whether this hypothetical hospital was chosen for alleviating high potential case loads or reducing travel distance (or both).</li>\n",
    "<ol>\n",
    "    "
   ]
  },
  {
   "cell_type": "code",
   "execution_count": null,
   "metadata": {},
   "outputs": [],
   "source": []
  }
 ],
 "metadata": {
  "kernelspec": {
   "display_name": "Python 3.6",
   "language": "python",
   "name": "python3"
  },
  "language_info": {
   "codemirror_mode": {
    "name": "ipython",
    "version": 3
   },
   "file_extension": ".py",
   "mimetype": "text/x-python",
   "name": "python",
   "nbconvert_exporter": "python",
   "pygments_lexer": "ipython3",
   "version": "3.6.9"
  }
 },
 "nbformat": 4,
 "nbformat_minor": 1
}
